{
 "cells": [
  {
   "cell_type": "code",
   "execution_count": 2,
   "metadata": {},
   "outputs": [
    {
     "name": "stdout",
     "output_type": "stream",
     "text": [
      "10\n"
     ]
    }
   ],
   "source": [
    "# while loops\n",
    "\n",
    "# add all numbers in range\n",
    "\n",
    "total = 0 \n",
    "for i in range(1, 5):\n",
    "    total += i\n",
    "print(total)"
   ]
  },
  {
   "cell_type": "code",
   "execution_count": 3,
   "metadata": {},
   "outputs": [
    {
     "name": "stdout",
     "output_type": "stream",
     "text": [
      "10\n"
     ]
    }
   ],
   "source": [
    "# when we get to the while loop, check that j <5, if it's true, do the following, add j to total and add +1 to j. \n",
    "# Then, j becomes 2. 2 < 5 so the loop continues. Once j reaches 5, we break. \n",
    "\n",
    "total_b = 0\n",
    "j = 1\n",
    "while j < 5:\n",
    "    total_b += j \n",
    "    j += 1\n",
    "print(total_b)\n"
   ]
  },
  {
   "cell_type": "code",
   "execution_count": 4,
   "metadata": {},
   "outputs": [
    {
     "name": "stdout",
     "output_type": "stream",
     "text": [
      "17\n"
     ]
    }
   ],
   "source": [
    "# starting at 0, look at the first element greater than 0, add the element, i, to total. Then proceed. \n",
    "# continue until \n",
    "\n",
    "given_list = [5, 4, 4, 3, 1, -2, -3, -5]\n",
    "\n",
    "total_list = 0\n",
    "i = 0\n",
    "while given_list[i] > 0:\n",
    "    total_list += given_list[i]\n",
    "    i += 1\n",
    "print(total_list)"
   ]
  },
  {
   "cell_type": "code",
   "execution_count": 5,
   "metadata": {},
   "outputs": [
    {
     "name": "stdout",
     "output_type": "stream",
     "text": [
      "17\n"
     ]
    }
   ],
   "source": [
    "given_list = [5, 4, 4, 3, 1]\n",
    "\n",
    "total_list = 0\n",
    "i = 0\n",
    "while i < len(given_list) and given_list[i] > 0:\n",
    "    total_list += given_list[i]\n",
    "    i += 1\n",
    "print(total_list)"
   ]
  },
  {
   "cell_type": "code",
   "execution_count": 6,
   "metadata": {},
   "outputs": [
    {
     "name": "stdout",
     "output_type": "stream",
     "text": [
      "-5\n"
     ]
    }
   ],
   "source": [
    "given_list2 = [5, 4, 4, 3, 1, -2, -3, -5]\n",
    "total_list2 = 0\n",
    "for element in given_list2:\n",
    "    total_list2 += element\n",
    "print(element)"
   ]
  },
  {
   "cell_type": "code",
   "execution_count": 8,
   "metadata": {},
   "outputs": [
    {
     "name": "stdout",
     "output_type": "stream",
     "text": [
      "17\n"
     ]
    }
   ],
   "source": [
    "given_list3 = [5, 4, 4, 3, 1, -2, -3, -5]\n",
    "total_list3 = 0\n",
    "for element in given_list3:\n",
    "    if element <= 0:\n",
    "        break\n",
    "    total_list3 += element\n",
    "print(total_list3)"
   ]
  },
  {
   "cell_type": "code",
   "execution_count": 12,
   "metadata": {},
   "outputs": [
    {
     "name": "stdout",
     "output_type": "stream",
     "text": [
      "17\n"
     ]
    }
   ],
   "source": [
    "# i is the index and True is a value that's always true e.g. 1 < 2\n",
    "# +- is an increment; <= is less than or equal to\n",
    "\n",
    "given_list4 = [5, 4, 4, 3, 1, -2, -3, -5]\n",
    "total_list4 = 0 \n",
    "i = 0\n",
    "while True: \n",
    "    total_list4 += given_list4[i]\n",
    "    i += 1\n",
    "    if given_list4[i] <= 0:\n",
    "        break\n",
    "print(total_list4)"
   ]
  },
  {
   "cell_type": "code",
   "execution_count": 30,
   "metadata": {},
   "outputs": [
    {
     "ename": "IndexError",
     "evalue": "list index out of range",
     "output_type": "error",
     "traceback": [
      "\u001b[0;31m---------------------------------------------------------------------------\u001b[0m",
      "\u001b[0;31mIndexError\u001b[0m                                Traceback (most recent call last)",
      "\u001b[0;32m<ipython-input-30-c8dc1fbb07b4>\u001b[0m in \u001b[0;36m<module>\u001b[0;34m\u001b[0m\n\u001b[1;32m      9\u001b[0m     \u001b[0;32mif\u001b[0m \u001b[0mgiven_list5\u001b[0m\u001b[0;34m[\u001b[0m\u001b[0mi\u001b[0m\u001b[0;34m]\u001b[0m \u001b[0;34m>=\u001b[0m \u001b[0;36m0\u001b[0m\u001b[0;34m:\u001b[0m\u001b[0;34m\u001b[0m\u001b[0;34m\u001b[0m\u001b[0m\n\u001b[1;32m     10\u001b[0m         \u001b[0mnext\u001b[0m\u001b[0;34m\u001b[0m\u001b[0;34m\u001b[0m\u001b[0m\n\u001b[0;32m---> 11\u001b[0;31m     \u001b[0;32mif\u001b[0m \u001b[0mgiven_list\u001b[0m\u001b[0;34m[\u001b[0m\u001b[0mi\u001b[0m\u001b[0;34m]\u001b[0m \u001b[0;34m<=\u001b[0m \u001b[0;36m0\u001b[0m\u001b[0;34m:\u001b[0m\u001b[0;34m\u001b[0m\u001b[0;34m\u001b[0m\u001b[0m\n\u001b[0m\u001b[1;32m     12\u001b[0m         \u001b[0mtotal_list5\u001b[0m \u001b[0;34m+=\u001b[0m \u001b[0;36m1\u001b[0m\u001b[0;34m\u001b[0m\u001b[0;34m\u001b[0m\u001b[0m\n\u001b[1;32m     13\u001b[0m \u001b[0;34m\u001b[0m\u001b[0m\n",
      "\u001b[0;31mIndexError\u001b[0m: list index out of range"
     ]
    }
   ],
   "source": [
    "# find sum of all negative numbers in this list which always decreases in value\n",
    "\n",
    "given_list5 = [7, 5, 4, 4, 3, 1, -2, -3, -5]\n",
    "total_list5 = 0\n",
    "i = 0 \n",
    "while True: \n",
    "    total_list5 += given_list5[i]\n",
    "    i += 1\n",
    "    if given_list5[i] >= 0:\n",
    "        next\n",
    "    if given_list[i] <= 0:\n",
    "        \n",
    "print(total_list5)\n",
    "        "
   ]
  },
  {
   "cell_type": "code",
   "execution_count": 31,
   "metadata": {},
   "outputs": [
    {
     "name": "stdout",
     "output_type": "stream",
     "text": [
      "7\n",
      "5\n",
      "4\n",
      "4\n",
      "3\n",
      "1\n",
      "-2\n",
      "-3\n",
      "-5\n"
     ]
    }
   ],
   "source": [
    "given_list5 = [7, 5, 4, 4, 3, 1, -2, -3, -5]\n",
    "\n",
    "for element in given_list5:\n",
    "    print(element)\n",
    "\n",
    "total_list5 += given_list5"
   ]
  },
  {
   "cell_type": "code",
   "execution_count": 55,
   "metadata": {},
   "outputs": [
    {
     "name": "stdout",
     "output_type": "stream",
     "text": [
      "band\n",
      "key\n",
      "key\n",
      "embassy\n",
      "embassy\n",
      "embassy\n"
     ]
    }
   ],
   "source": [
    "a = [\"band\", \"key\", \"embassy\"]\n",
    "\n",
    "for i in range(len(a)):\n",
    "    for j in range(i + 1):\n",
    "    # i = 0 -> j = 0\n",
    "    # i = 1 -> j = 0, 1\n",
    "    # i = 2 -> j = 0, 1, 2\n",
    "    # so when i is 2, we go through the loop 3 times\n",
    "        print(a[i])"
   ]
  },
  {
   "cell_type": "code",
   "execution_count": 49,
   "metadata": {},
   "outputs": [
    {
     "name": "stdout",
     "output_type": "stream",
     "text": [
      "[1, 2, 3, 4, 5, 6, 7, 8, 9, 10, 11, 12, 13, 14, 15, 16, 17, 18, 19, 20, 21, 22, 23, 24, 25, 26, 27, 28, 29, 30, 31, 32, 33, 34, 35, 36, 37, 38, 39, 40, 41, 42, 43, 44, 45, 46, 47, 48, 49, 50, 51, 52, 53, 54, 55, 56, 57, 58, 59, 60, 61, 62, 63, 64, 65, 66, 67, 68, 69, 70, 71, 72, 73, 74, 75, 76, 77, 78, 79, 80, 81, 82, 83, 84, 85, 86, 87, 88, 89, 90, 91, 92, 93, 94, 95, 96, 97, 98, 99]\n"
     ]
    }
   ],
   "source": [
    "print(list(range(1, 100)))"
   ]
  },
  {
   "cell_type": "code",
   "execution_count": 50,
   "metadata": {},
   "outputs": [
    {
     "name": "stdout",
     "output_type": "stream",
     "text": [
      "2318\n"
     ]
    }
   ],
   "source": [
    "total = 0\n",
    "for i in range(1, 100):\n",
    "    if i % 3 == 0:\n",
    "        total += i\n",
    "    elif i % 5 == 0:\n",
    "        total += i\n",
    "print(total)"
   ]
  },
  {
   "cell_type": "code",
   "execution_count": 51,
   "metadata": {},
   "outputs": [
    {
     "name": "stdout",
     "output_type": "stream",
     "text": [
      "2318\n"
     ]
    }
   ],
   "source": [
    "total = 0\n",
    "for i in range(1, 100):\n",
    "    if i % 3 == 0 or i % 5 == 0:\n",
    "        total += i\n",
    "print(total)"
   ]
  },
  {
   "cell_type": "code",
   "execution_count": 54,
   "metadata": {},
   "outputs": [
    {
     "name": "stdout",
     "output_type": "stream",
     "text": [
      "-17\n"
     ]
    }
   ],
   "source": [
    "given_list6 = [7, 5, 4, 4, 3, 1, -2, -3, -5, -7]\n",
    "\n",
    "# sum only negative numbers\n",
    "\n",
    "total_6 = 0\n",
    "j = len(given_list6) - 1\n",
    "while given_list6[j] < 0:\n",
    "    total_6 += given_list6[j]\n",
    "    j -= 1\n",
    "print(total_6)\n"
   ]
  },
  {
   "cell_type": "code",
   "execution_count": null,
   "metadata": {},
   "outputs": [],
   "source": []
  }
 ],
 "metadata": {
  "kernelspec": {
   "display_name": "Python 3",
   "language": "python",
   "name": "python3"
  },
  "language_info": {
   "codemirror_mode": {
    "name": "ipython",
    "version": 3
   },
   "file_extension": ".py",
   "mimetype": "text/x-python",
   "name": "python",
   "nbconvert_exporter": "python",
   "pygments_lexer": "ipython3",
   "version": "3.7.6"
  }
 },
 "nbformat": 4,
 "nbformat_minor": 4
}
